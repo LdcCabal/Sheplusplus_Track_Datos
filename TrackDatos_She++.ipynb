{
  "nbformat": 4,
  "nbformat_minor": 0,
  "metadata": {
    "colab": {
      "provenance": [],
      "mount_file_id": "1emj3UU3CpF-p0X3EgqnOFPr1JZ0EwIlJ",
      "authorship_tag": "ABX9TyPSoWE3dV910oXaMQMw11Dw"
    },
    "kernelspec": {
      "name": "python3",
      "display_name": "Python 3"
    },
    "language_info": {
      "name": "python"
    }
  },
  "cells": [
    {
      "cell_type": "markdown",
      "source": [
        "## Basicos de Python"
      ],
      "metadata": {
        "id": "aPcjMd1UKUGu"
      }
    },
    {
      "cell_type": "code",
      "execution_count": null,
      "metadata": {
        "id": "r0W10q7_l9qA"
      },
      "outputs": [],
      "source": [
        "import numpy as np\n",
        "import math\n",
        "import matplotlib.pyplot as plt\n",
        "#import seaborn as sns\n",
        "#sns.set_theme()"
      ]
    },
    {
      "cell_type": "code",
      "source": [
        "def FormulaGeneral(a,b,c):\n",
        "  if a <= 0:\n",
        "    return \"Error with a \"\n",
        "  else:\n",
        "    x1 = (-b + np.sqrt(b**2 -4*a*c))/(2*a)\n",
        "    x2 = (-b - np.sqrt(b**2 -4*a*c))/(2*a)\n",
        "\n",
        "  return x1, x2"
      ],
      "metadata": {
        "id": "vQ_8Ptzhnxdc"
      },
      "execution_count": null,
      "outputs": []
    },
    {
      "cell_type": "code",
      "source": [
        "a = int(input(\"Valor de a: \"))\n",
        "b= int(input(\"Valor de b: \"))\n",
        "c = int(input(\"Valor de c: \"))"
      ],
      "metadata": {
        "colab": {
          "base_uri": "https://localhost:8080/"
        },
        "id": "jcO0rqEFrxkJ",
        "outputId": "33786f68-8ec5-4a86-92fc-7ec85905d8d6"
      },
      "execution_count": null,
      "outputs": [
        {
          "name": "stdout",
          "output_type": "stream",
          "text": [
            "Valor de a: 1\n",
            "Valor de b: 3\n",
            "Valor de c: -4\n"
          ]
        }
      ]
    },
    {
      "cell_type": "code",
      "source": [
        "raices = FormulaGeneral(a,b,c)\n",
        "print(raices)"
      ],
      "metadata": {
        "colab": {
          "base_uri": "https://localhost:8080/"
        },
        "id": "iw28dP-FsqSx",
        "outputId": "44175966-c3e9-4159-e780-35920395886a"
      },
      "execution_count": null,
      "outputs": [
        {
          "output_type": "stream",
          "name": "stdout",
          "text": [
            "(1.0, -4.0)\n"
          ]
        }
      ]
    },
    {
      "cell_type": "code",
      "source": [
        "def potencia(x, exp):\n",
        "  if exp>0 :\n",
        "    return x**exp\n",
        "  else:\n",
        "    return \"Not positive\""
      ],
      "metadata": {
        "id": "lvD7AhEitUxf"
      },
      "execution_count": null,
      "outputs": []
    },
    {
      "cell_type": "code",
      "source": [
        "for i in range(0,5):\n",
        "  print(potencia(3, i))\n"
      ],
      "metadata": {
        "colab": {
          "base_uri": "https://localhost:8080/"
        },
        "id": "VATauGgFtUpz",
        "outputId": "2913127e-ce46-4104-921c-c6bb98ce7db4"
      },
      "execution_count": null,
      "outputs": [
        {
          "output_type": "stream",
          "name": "stdout",
          "text": [
            "Not positive\n",
            "3\n",
            "9\n",
            "27\n",
            "81\n"
          ]
        }
      ]
    },
    {
      "cell_type": "code",
      "source": [
        "nombres = [\"Alma\", \"Tania\", \"Michel\"]"
      ],
      "metadata": {
        "id": "as96EOZBtUev"
      },
      "execution_count": null,
      "outputs": []
    },
    {
      "cell_type": "code",
      "source": [
        "for nombre in nombres:\n",
        "  print(nombre)"
      ],
      "metadata": {
        "colab": {
          "base_uri": "https://localhost:8080/"
        },
        "id": "IFtXgX4WufBq",
        "outputId": "f48e1d5f-1888-43e7-d615-f67c449e5c87"
      },
      "execution_count": null,
      "outputs": [
        {
          "output_type": "stream",
          "name": "stdout",
          "text": [
            "Alma\n",
            "Tania\n",
            "Michel\n"
          ]
        }
      ]
    },
    {
      "cell_type": "code",
      "source": [
        "x_array = np.array([0,1,2,3,4,5,6])"
      ],
      "metadata": {
        "id": "nJmvjcZUue-7"
      },
      "execution_count": null,
      "outputs": []
    },
    {
      "cell_type": "code",
      "source": [
        "potencia(x_array, 2)"
      ],
      "metadata": {
        "colab": {
          "base_uri": "https://localhost:8080/"
        },
        "id": "ZqcKErbXue8L",
        "outputId": "6bc34546-54c4-4af5-daff-2068fb7c5890"
      },
      "execution_count": null,
      "outputs": [
        {
          "output_type": "execute_result",
          "data": {
            "text/plain": [
              "array([ 0,  1,  4,  9, 16, 25, 36])"
            ]
          },
          "metadata": {},
          "execution_count": 16
        }
      ]
    },
    {
      "cell_type": "code",
      "source": [
        "xceros = np.zeros(len(x_array))\n",
        "for num, i in enumerate(x_array): #enumerar cuantos indices tiene un arreglo\n",
        "  xceros[i]=potencia(x_array[i],2)"
      ],
      "metadata": {
        "id": "XXIstr4jue5d"
      },
      "execution_count": null,
      "outputs": []
    },
    {
      "cell_type": "code",
      "source": [
        "xceros"
      ],
      "metadata": {
        "colab": {
          "base_uri": "https://localhost:8080/"
        },
        "id": "cgauDDv7ue2u",
        "outputId": "85537cd4-393c-44bc-9ffe-ad7c4c14b17e"
      },
      "execution_count": null,
      "outputs": [
        {
          "output_type": "execute_result",
          "data": {
            "text/plain": [
              "array([ 0.,  1.,  4.,  9., 16., 25., 36.])"
            ]
          },
          "metadata": {},
          "execution_count": 22
        }
      ]
    },
    {
      "cell_type": "code",
      "source": [
        "plt.plot(x_array, xceros)\n",
        "plt.show()"
      ],
      "metadata": {
        "colab": {
          "base_uri": "https://localhost:8080/",
          "height": 268
        },
        "id": "D5ewx846wglC",
        "outputId": "3e776009-3c3d-4134-920d-1e9aeb565669"
      },
      "execution_count": null,
      "outputs": [
        {
          "output_type": "display_data",
          "data": {
            "text/plain": [
              "<Figure size 432x288 with 1 Axes>"
            ],
            "image/png": "[encoded data removed]"
          },
          "metadata": {}
        }
      ]
    },
    {
      "cell_type": "code",
      "source": [
        "x =np.arange(-2*np.pi, 2*np.pi,0.2)\n",
        "y1=np.cos(x)\n",
        "y2=np.sin(x)\n",
        "plt.plot(x, y1, color =\"m\", label = \"Coseno\")\n",
        "plt.plot(x, y2, \"b\", label=\"seno\")\n",
        "plt.xlabel(\"x\")\n",
        "plt.ylabel(\"y\")\n",
        "plt.legend\n",
        "plt.show()"
      ],
      "metadata": {
        "colab": {
          "base_uri": "https://localhost:8080/",
          "height": 285
        },
        "id": "q9r2a4zOwgcs",
        "outputId": "dac6e6ad-861d-430e-9e19-6bf500a2c741"
      },
      "execution_count": null,
      "outputs": [
        {
          "output_type": "display_data",
          "data": {
            "text/plain": [
              "<Figure size 432x288 with 1 Axes>"
            ],
            "image/png": "[encoded data removed]"
          },
          "metadata": {}
        }
      ]
    },
    {
      "cell_type": "code",
      "source": [],
      "metadata": {
        "id": "vXJrnT4CwgZk"
      },
      "execution_count": null,
      "outputs": []
    },
    {
      "cell_type": "code",
      "source": [
        "ruta = \"/content/drive/MyDrive/train/\"\n",
        "name = \"train\"\n",
        "data = np.loadtxt(ruta + name)\n",
        "print(data)"
      ],
      "metadata": {
        "id": "lx6fO5ePnx7Z"
      },
      "execution_count": null,
      "outputs": []
    },
    {
      "cell_type": "code",
      "source": [
        "def Funcion():\n",
        "\n",
        "  return "
      ],
      "metadata": {
        "id": "V5993u5LpM41"
      },
      "execution_count": null,
      "outputs": []
    },
    {
      "cell_type": "code",
      "source": [
        "resultado = Funcion()\n",
        "print(resultado)"
      ],
      "metadata": {
        "id": "paKTTBQppjuW"
      },
      "execution_count": null,
      "outputs": []
    },
    {
      "cell_type": "markdown",
      "source": [
        "## Redes Neuronales\n",
        "\n",
        "Primer Ejercicio\n",
        "\n",
        "Neural networks deep learning coursera"
      ],
      "metadata": {
        "id": "Ffuo9YY65isI"
      }
    },
    {
      "cell_type": "code",
      "source": [
        "import glob #Sirve para \n",
        "import numpy as np\n",
        "import copy\n",
        "import matplotlib.pyplot as plt\n",
        "import h5py\n",
        "from PIL import Image  #Trabajar con imagenes\n",
        "from scipy import ndimage #Similar a numpy\n",
        "\n",
        "%matplotlib inline  \n",
        "####Graficas salgan en notebook "
      ],
      "metadata": {
        "id": "qeGRFqP85iSU"
      },
      "execution_count": null,
      "outputs": []
    },
    {
      "cell_type": "code",
      "source": [
        "from google.colab import drive\n",
        "drive.mount (\"/content/drive\")"
      ],
      "metadata": {
        "colab": {
          "base_uri": "https://localhost:8080/"
        },
        "id": "Rvoo6sxGIzGE",
        "outputId": "78ab8219-f7f9-422e-9ae8-51e6ff7082b7"
      },
      "execution_count": null,
      "outputs": [
        {
          "output_type": "stream",
          "name": "stdout",
          "text": [
            "Drive already mounted at /content/drive; to attempt to forcibly remount, call drive.mount(\"/content/drive\", force_remount=True).\n"
          ]
        }
      ]
    },
    {
      "cell_type": "code",
      "source": [
        "files = glob.glob(\"/content/drive/MyDrive/train/*\") #Nos busca todos los archivos dentro de la direccion y el /* indica todos los archivos #Kaggle vienen datos para entrenar redes"
      ],
      "metadata": {
        "id": "L99g2RFsIzCm"
      },
      "execution_count": null,
      "outputs": []
    },
    {
      "cell_type": "code",
      "source": [
        "print(len(files))"
      ],
      "metadata": {
        "colab": {
          "base_uri": "https://localhost:8080/"
        },
        "id": "KRYyXYbuIy9I",
        "outputId": "f907c7bb-f880-4f7d-e8a1-6fc05a892ee2"
      },
      "execution_count": null,
      "outputs": [
        {
          "output_type": "stream",
          "name": "stdout",
          "text": [
            "4340\n"
          ]
        }
      ]
    },
    {
      "cell_type": "code",
      "source": [
        "#numero de pixeles para nuestras imágenes. \n",
        "num_px=64"
      ],
      "metadata": {
        "id": "SigSCTNCVo1a"
      },
      "execution_count": null,
      "outputs": []
    },
    {
      "cell_type": "code",
      "source": [
        "#Preparamos el dataset de entrenamiento:\n",
        "train_x=[]\n",
        "train_y=[]\n",
        "for file in files[0:100]:\n",
        "  img = Image.open(file)\n",
        "  img=img.resize((num_px,num_px))\n",
        "  data= np.asarray(img)\n",
        "  train_x.append(data)\n",
        "  img.close()\n",
        "  if \"dog\" in file:\n",
        "    train_y.append(1)\n",
        "  if \"cat\" in file:\n",
        "    train_y.append(0)\n",
        "train_y = np.asarray(train_y)\n",
        "train_x=np.asarray(train_x)\n"
      ],
      "metadata": {
        "id": "lgPa2AwWIyzr"
      },
      "execution_count": null,
      "outputs": []
    },
    {
      "cell_type": "code",
      "source": [
        "print(len(train_x))"
      ],
      "metadata": {
        "colab": {
          "base_uri": "https://localhost:8080/"
        },
        "id": "fXouVe4cYNkt",
        "outputId": "d5274098-066a-41dc-9f19-ad458ecadc56"
      },
      "execution_count": null,
      "outputs": [
        {
          "output_type": "stream",
          "name": "stdout",
          "text": [
            "100\n"
          ]
        }
      ]
    },
    {
      "cell_type": "code",
      "source": [
        "plt.imshow(train_x[53]) #Mostrar imagen"
      ],
      "metadata": {
        "colab": {
          "base_uri": "https://localhost:8080/",
          "height": 287
        },
        "id": "hJp_k95IXS0O",
        "outputId": "94185684-163c-4c5a-e3d2-8fa487e18eb0"
      },
      "execution_count": null,
      "outputs": [
        {
          "output_type": "execute_result",
          "data": {
            "text/plain": [
              "<matplotlib.image.AxesImage at 0x7f1d08f54490>"
            ]
          },
          "metadata": {},
          "execution_count": 126
        },
        {
          "output_type": "display_data",
          "data": {
            "text/plain": [
              "<Figure size 432x288 with 1 Axes>"
            ],
            "image/png": "[encoded data removed]"
          },
          "metadata": {
            "needs_background": "light"
          }
        }
      ]
    },
    {
      "cell_type": "code",
      "source": [
        "#Preparamos el dataset de prueba:\n",
        "test_x=[]\n",
        "test_y=[]\n",
        "for file in files[4300:]:\n",
        "    #print(file)\n",
        "    img=Image.open(file)\n",
        "    img=img.resize((num_px,num_px))\n",
        "    data=np.asarray(img)\n",
        "    test_x.append(data)\n",
        "    img.close()\n",
        "    if 'dog' in file:\n",
        "        test_y.append(1)\n",
        "    if 'cat' in file: \n",
        "        test_y.append(0)\n",
        "test_y=np.asarray(test_y)\n",
        "test_x=np.asarray(test_x)\n"
      ],
      "metadata": {
        "id": "fjiXwPGQYf4e"
      },
      "execution_count": null,
      "outputs": []
    },
    {
      "cell_type": "code",
      "source": [
        "plt.imshow(test_x[1]) #Mostrar imagen"
      ],
      "metadata": {
        "colab": {
          "base_uri": "https://localhost:8080/",
          "height": 287
        },
        "id": "2g8zXwQXXSsa",
        "outputId": "9cf6be1b-8cd1-436d-f440-d89492468529"
      },
      "execution_count": null,
      "outputs": [
        {
          "output_type": "execute_result",
          "data": {
            "text/plain": [
              "<matplotlib.image.AxesImage at 0x7f1d01ca7f90>"
            ]
          },
          "metadata": {},
          "execution_count": 128
        },
        {
          "output_type": "display_data",
          "data": {
            "text/plain": [
              "<Figure size 432x288 with 1 Axes>"
            ],
            "image/png": "[encoded data removed]"
          },
          "metadata": {
            "needs_background": "light"
          }
        }
      ]
    },
    {
      "cell_type": "code",
      "source": [
        "np.shape(train_x)"
      ],
      "metadata": {
        "colab": {
          "base_uri": "https://localhost:8080/"
        },
        "id": "xJfPY1yyZvra",
        "outputId": "579d7a26-6b0f-454e-9e80-c060466edca0"
      },
      "execution_count": null,
      "outputs": [
        {
          "output_type": "execute_result",
          "data": {
            "text/plain": [
              "(100, 64, 64, 3)"
            ]
          },
          "metadata": {},
          "execution_count": 129
        }
      ]
    },
    {
      "cell_type": "code",
      "source": [
        "#Hacemos una transformacion de los arreglos que contienen las imágenes para que sean arreglos de una sola dimension \n",
        "train_x_flatten = train_x.reshape(train_x.shape[0], -1).T\n",
        "test_x_flatten = test_x.reshape(test_x.shape[0], -1).T\n",
        "\n",
        "train_set_y = train_y.reshape(1, train_y.shape[0]).T\n",
        "test_set_y = test_y.reshape(1, test_x.shape[0]).T\n"
      ],
      "metadata": {
        "id": "tdacQ9c_Zidf"
      },
      "execution_count": null,
      "outputs": []
    },
    {
      "cell_type": "code",
      "source": [
        "#Normalizamos las imagenes:\n",
        "train_set_x = train_x_flatten/255\n",
        "test_set_x= test_x_flatten/255"
      ],
      "metadata": {
        "id": "MQT_rYmhZiav"
      },
      "execution_count": null,
      "outputs": []
    },
    {
      "cell_type": "code",
      "source": [
        "#len(train_set_y)\n",
        "len(test_set_y)"
      ],
      "metadata": {
        "colab": {
          "base_uri": "https://localhost:8080/"
        },
        "id": "026kvV0ylOUd",
        "outputId": "71118d57-96ec-44c4-877f-16494a35659f"
      },
      "execution_count": null,
      "outputs": [
        {
          "output_type": "execute_result",
          "data": {
            "text/plain": [
              "40"
            ]
          },
          "metadata": {},
          "execution_count": 133
        }
      ]
    },
    {
      "cell_type": "code",
      "source": [
        "#DEfinimos ahora la arquitectura de nuestra neurona\n",
        "#Definimos funciones importantes\n"
      ],
      "metadata": {
        "id": "zeeqkAy_ZiYH"
      },
      "execution_count": null,
      "outputs": []
    },
    {
      "cell_type": "code",
      "source": [
        "#Funcion de activación Sigmoide\n",
        "def sigmoid(z):\n",
        "  s=1./(1+np.exp(-z))\n",
        "  return s"
      ],
      "metadata": {
        "id": "puCvZk7CZiNF"
      },
      "execution_count": null,
      "outputs": []
    },
    {
      "cell_type": "code",
      "source": [
        "#data_z = np.linspace(-10, 10, 100) #alternativa: np.arange(-10,10,0.2) es decir, defines el espaciado\n",
        "#funcionSigmoide =sigmoid(data_z)\n",
        "#plt.plot(data_z, funcionSigmoide)\n",
        "#plt.show()"
      ],
      "metadata": {
        "id": "LrODVBSIbquf"
      },
      "execution_count": null,
      "outputs": []
    },
    {
      "cell_type": "code",
      "source": [
        "#Inicializamos los pesos y los sesgos a cero. \n",
        "def initialize_with_zeros(dim):\n",
        "    w=np.zeros((dim,1))\n",
        "    b=0.\n",
        "    return w, b"
      ],
      "metadata": {
        "id": "j7pqx1LOdG8-"
      },
      "execution_count": null,
      "outputs": []
    },
    {
      "cell_type": "code",
      "source": [
        "#Calculamos nuestra función de activación, función de costo y las derivadas, dw y db\n",
        "#Prediccion \"y\" gorrito= Activacion \"alfa\"\n",
        "def propagate(w, b, X, Y):\n",
        "    m = X.shape[1]\n",
        "    A=sigmoid(np.dot(w.T,X)+b)\n",
        "    cost = -(1./m)*np.sum(Y*np.log(A)+(1-Y)*np.log(1-A))\n",
        "    dw = (1/m)* np.dot(X,(A-Y).T)\n",
        "    db = (1/m)* np.sum(A-Y)\n",
        "    cost = np.squeeze(np.array(cost))\n",
        "    grads = {\"dw\": dw,\n",
        "             \"db\": db}\n",
        "    return grads, cost"
      ],
      "metadata": {
        "id": "q2jrNSlKdOIj"
      },
      "execution_count": null,
      "outputs": []
    },
    {
      "cell_type": "code",
      "source": [
        "#Realizamos la optimización de nuestra red. \n",
        "\n",
        "def optimize(w, b, X, Y, num_iterations=100, learning_rate=0.009, print_cost=False): \n",
        "    # esta funcion sirve para optimizar y encontrar el valor más conveniente para nuestros parametros.\n",
        "\n",
        "    #Learning rate numero bajo para que sea una fraccion del gradiente y vaya buscando en pasos pequeños (tamaño del paso)\n",
        "    #\n",
        "    w = copy.deepcopy(w)\n",
        "    b = copy.deepcopy(b)\n",
        "    \n",
        "    costs = []\n",
        "    \n",
        "    for i in range(num_iterations):\n",
        "        grads, cost = propagate(w, b, X, Y)\n",
        "        dw = grads[\"dw\"]\n",
        "        db = grads[\"db\"]\n",
        "        w=w-learning_rate*dw\n",
        "        b=b-learning_rate*db\n",
        "        \n",
        "        if i % 100 == 0:\n",
        "            costs.append(cost)\n",
        "            if print_cost:\n",
        "                print (\"Cost after iteration %i: %f\" %(i, cost))\n",
        "    \n",
        "    params = {\"w\": w,\n",
        "              \"b\": b}\n",
        "    \n",
        "    grads = {\"dw\": dw,\n",
        "             \"db\": db}\n",
        "    \n",
        "    return params, grads, costs"
      ],
      "metadata": {
        "id": "bAejGQG9ebM0"
      },
      "execution_count": null,
      "outputs": []
    },
    {
      "cell_type": "code",
      "source": [
        "#Calculamos la predicción que hace nuestra función\n",
        "def predict(w, b, X):\n",
        "    m = X.shape[1]\n",
        "    Y_prediction = np.zeros((1, m))\n",
        "    w = w.reshape(X.shape[0], 1)\n",
        "    \n",
        "    A = sigmoid(np.dot(w.T,X)+b)\n",
        "     \n",
        "    for i in range(A.shape[1]):\n",
        "        if A[0,i]>0.5:\n",
        "            Y_prediction[0,i] = int(1)\n",
        "        else:\n",
        "            Y_prediction[0,i] = int(0)\n",
        "    \n",
        "    return Y_prediction"
      ],
      "metadata": {
        "id": "tyaeONEhebKI"
      },
      "execution_count": null,
      "outputs": []
    },
    {
      "cell_type": "code",
      "source": [
        "\n",
        "#Ponemos todo junto en nuestro modelo \n",
        "# GRADED FUNCTION: model\n",
        "\n",
        "def model(X_train, Y_train, X_test, Y_test, num_iterations=2000, learning_rate=0.5, print_cost=False):  \n",
        "    w,b=initialize_with_zeros(X_train.shape[0])\n",
        "    params, grads, costs = optimize(w, b, X_train, Y_train, num_iterations=num_iterations, learning_rate=learning_rate, print_cost=print_cost)\n",
        "    w=params[\"w\"]\n",
        "    b=params[\"b\"]\n",
        "    \n",
        "    Y_prediction_test = predict(w,b,X_test)\n",
        "    Y_prediction_train = predict(w,b,X_train)\n",
        "    if print_cost:\n",
        "        print(\"train accuracy: {} %\".format(100 - np.mean(np.abs(Y_prediction_train - Y_train)) *100 ))\n",
        "        print(\"test accuracy: {} %\".format(100 - np.mean(np.abs(Y_prediction_test - Y_test)) *100 ))\n",
        "        \n",
        "    d = {\"costs\": costs,\n",
        "         \"Y_prediction_test\": Y_prediction_test, \n",
        "         \"Y_prediction_train\" : Y_prediction_train, \n",
        "         \"w\" : w, \n",
        "         \"b\" : b,\n",
        "         \"learning_rate\" : learning_rate,\n",
        "         \"num_iterations\": num_iterations}\n",
        "    \n",
        "    return d"
      ],
      "metadata": {
        "id": "msQObNeqebHQ"
      },
      "execution_count": null,
      "outputs": []
    },
    {
      "cell_type": "code",
      "source": [
        "logistic_regression_model = model(train_set_x, train_set_y, test_set_x, test_set_y, num_iterations=4000, learning_rate=0.01, print_cost=True)"
      ],
      "metadata": {
        "colab": {
          "base_uri": "https://localhost:8080/",
          "height": 168
        },
        "id": "iXqaaEY7ebEH",
        "outputId": "3abb31db-adc8-4ad3-ca6f-b142570c4a47"
      },
      "execution_count": 1,
      "outputs": [
        {
          "output_type": "error",
          "ename": "NameError",
          "evalue": "ignored",
          "traceback": [
            "\u001b[0;31m---------------------------------------------------------------------------\u001b[0m",
            "\u001b[0;31mNameError\u001b[0m                                 Traceback (most recent call last)",
            "\u001b[0;32m<ipython-input-1-22e57ccb2be1>\u001b[0m in \u001b[0;36m<module>\u001b[0;34m\u001b[0m\n\u001b[0;32m----> 1\u001b[0;31m \u001b[0mlogistic_regression_model\u001b[0m \u001b[0;34m=\u001b[0m \u001b[0mmodel\u001b[0m\u001b[0;34m(\u001b[0m\u001b[0mtrain_set_x\u001b[0m\u001b[0;34m,\u001b[0m \u001b[0mtrain_set_y\u001b[0m\u001b[0;34m,\u001b[0m \u001b[0mtest_set_x\u001b[0m\u001b[0;34m,\u001b[0m \u001b[0mtest_set_y\u001b[0m\u001b[0;34m,\u001b[0m \u001b[0mnum_iterations\u001b[0m\u001b[0;34m=\u001b[0m\u001b[0;36m4000\u001b[0m\u001b[0;34m,\u001b[0m \u001b[0mlearning_rate\u001b[0m\u001b[0;34m=\u001b[0m\u001b[0;36m0.01\u001b[0m\u001b[0;34m,\u001b[0m \u001b[0mprint_cost\u001b[0m\u001b[0;34m=\u001b[0m\u001b[0;32mTrue\u001b[0m\u001b[0;34m)\u001b[0m\u001b[0;34m\u001b[0m\u001b[0;34m\u001b[0m\u001b[0m\n\u001b[0m",
            "\u001b[0;31mNameError\u001b[0m: name 'model' is not defined"
          ]
        }
      ]
    },
    {
      "cell_type": "code",
      "source": [
        "index=6\n",
        "plt.imshow(test_set_x[:, index].reshape((num_px, num_px, 3)))\n",
        "print (\"y = \" + str(test_set_y[0,index]) + \", you predicted that it is a \\\"\" + str(logistic_regression_model['Y_prediction_test'][0,index]))"
      ],
      "metadata": {
        "colab": {
          "base_uri": "https://localhost:8080/",
          "height": 471
        },
        "id": "koYe2Qiiea4m",
        "outputId": "8a26e1a7-22c8-4792-f121-7cf6d4e1ff21"
      },
      "execution_count": null,
      "outputs": [
        {
          "output_type": "error",
          "ename": "IndexError",
          "evalue": "ignored",
          "traceback": [
            "\u001b[0;31m---------------------------------------------------------------------------\u001b[0m",
            "\u001b[0;31mIndexError\u001b[0m                                Traceback (most recent call last)",
            "\u001b[0;32m<ipython-input-116-f1b63f87c9c5>\u001b[0m in \u001b[0;36m<module>\u001b[0;34m\u001b[0m\n\u001b[1;32m      1\u001b[0m \u001b[0mindex\u001b[0m\u001b[0;34m=\u001b[0m\u001b[0;36m6\u001b[0m\u001b[0;34m\u001b[0m\u001b[0;34m\u001b[0m\u001b[0m\n\u001b[1;32m      2\u001b[0m \u001b[0mplt\u001b[0m\u001b[0;34m.\u001b[0m\u001b[0mimshow\u001b[0m\u001b[0;34m(\u001b[0m\u001b[0mtest_set_x\u001b[0m\u001b[0;34m[\u001b[0m\u001b[0;34m:\u001b[0m\u001b[0;34m,\u001b[0m \u001b[0mindex\u001b[0m\u001b[0;34m]\u001b[0m\u001b[0;34m.\u001b[0m\u001b[0mreshape\u001b[0m\u001b[0;34m(\u001b[0m\u001b[0;34m(\u001b[0m\u001b[0mnum_px\u001b[0m\u001b[0;34m,\u001b[0m \u001b[0mnum_px\u001b[0m\u001b[0;34m,\u001b[0m \u001b[0;36m3\u001b[0m\u001b[0;34m)\u001b[0m\u001b[0;34m)\u001b[0m\u001b[0;34m)\u001b[0m\u001b[0;34m\u001b[0m\u001b[0;34m\u001b[0m\u001b[0m\n\u001b[0;32m----> 3\u001b[0;31m \u001b[0mprint\u001b[0m \u001b[0;34m(\u001b[0m\u001b[0;34m\"y = \"\u001b[0m \u001b[0;34m+\u001b[0m \u001b[0mstr\u001b[0m\u001b[0;34m(\u001b[0m\u001b[0mtest_set_y\u001b[0m\u001b[0;34m[\u001b[0m\u001b[0;36m0\u001b[0m\u001b[0;34m,\u001b[0m\u001b[0mindex\u001b[0m\u001b[0;34m]\u001b[0m\u001b[0;34m)\u001b[0m \u001b[0;34m+\u001b[0m \u001b[0;34m\", you predicted that it is a \\\"\"\u001b[0m \u001b[0;34m+\u001b[0m \u001b[0mstr\u001b[0m\u001b[0;34m(\u001b[0m\u001b[0mlogistic_regression_model\u001b[0m\u001b[0;34m[\u001b[0m\u001b[0;34m'Y_prediction_test'\u001b[0m\u001b[0;34m]\u001b[0m\u001b[0;34m[\u001b[0m\u001b[0;36m0\u001b[0m\u001b[0;34m,\u001b[0m\u001b[0mindex\u001b[0m\u001b[0;34m]\u001b[0m\u001b[0;34m)\u001b[0m\u001b[0;34m)\u001b[0m\u001b[0;34m\u001b[0m\u001b[0;34m\u001b[0m\u001b[0m\n\u001b[0m",
            "\u001b[0;31mIndexError\u001b[0m: index 6 is out of bounds for axis 1 with size 1"
          ]
        },
        {
          "output_type": "display_data",
          "data": {
            "text/plain": [
              "<Figure size 432x288 with 1 Axes>"
            ],
            "image/png": "[encoded data removed]"
          },
          "metadata": {
            "needs_background": "light"
          }
        }
      ]
    }
  ]
}